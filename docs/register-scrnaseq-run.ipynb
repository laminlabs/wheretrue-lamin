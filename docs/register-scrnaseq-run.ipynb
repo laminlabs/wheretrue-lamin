{
 "cells": [
  {
   "cell_type": "markdown",
   "id": "7f26a335-cf1c-4e69-be3b-0c26b154606a",
   "metadata": {},
   "source": [
    "# Register scrnaseq run"
   ]
  },
  {
   "cell_type": "markdown",
   "id": "93bbdf24",
   "metadata": {},
   "source": [
    "1. Get a nf-core/scrnaseq run going\n",
    "2. Register fastq\n",
    "3. Consider tech and bio samples\n",
    "4. Register h5ad"
   ]
  },
  {
   "cell_type": "markdown",
   "id": "0dc4558a",
   "metadata": {},
   "source": [
    "!nextflow run nf-core/scrnaseq -r 2.7.1 -profile docker,test -resume --outdir output"
   ]
  },
  {
   "cell_type": "code",
   "execution_count": null,
   "id": "dd5030fd",
   "metadata": {},
   "outputs": [],
   "source": [
    "!lamin init --storage run-scrnaseq --name run-scrnaseq --schema bionty,wetlab"
   ]
  },
  {
   "cell_type": "code",
   "execution_count": null,
   "id": "c5e4ba03",
   "metadata": {},
   "outputs": [],
   "source": [
    "import lamindb as ln\n",
    "import bionty as bt\n",
    "import wetlab as wl\n",
    "from pathlib import Path"
   ]
  },
  {
   "cell_type": "code",
   "execution_count": null,
   "id": "a7d76fa4",
   "metadata": {},
   "outputs": [],
   "source": [
    "# The fastq files were staged during the workflow execution. We get them from the work directory\n",
    "fastq_files = [f for f in Path('work').rglob('*') if f.is_symlink() and f.suffix == '.gz']"
   ]
  },
  {
   "cell_type": "markdown",
   "id": "e98f2312",
   "metadata": {},
   "source": [
    "The fastq files look like:\n",
    "\n",
    " FFFFFFFFFFFFFFFFFFFFFFFFFF\n",
    "\n",
    " @A00111:245:HGKNTDMXX:1:1101:3893:1000 1:N:0:NGGAGATG\n",
    "\n",
    " TTGCCTCTGCATATTGTTCCTGATTG\n",
    "\n",
    " \\+\n",
    "\n",
    " FFFFFFFFFFFFFFFFFFFFFFFFFF\n",
    "\n",
    " @A00111:245:HGKNTDMXX:1:1101:3929:1000 1:N:0:NGGAGATG\n",
    "\n",
    " GATGCTACACAGGCCTTCATTGCTTT\n",
    " \n",
    " \\+"
   ]
  },
  {
   "cell_type": "markdown",
   "id": "c3487cad",
   "metadata": {},
   "source": []
  }
 ],
 "metadata": {
  "kernelspec": {
   "display_name": "Python 3 (ipykernel)",
   "language": "python",
   "name": "python3"
  },
  "language_info": {
   "codemirror_mode": {
    "name": "ipython",
    "version": 3
   },
   "file_extension": ".py",
   "mimetype": "text/x-python",
   "name": "python",
   "nbconvert_exporter": "python",
   "pygments_lexer": "ipython3",
   "version": "3.11.7"
  }
 },
 "nbformat": 4,
 "nbformat_minor": 5
}
